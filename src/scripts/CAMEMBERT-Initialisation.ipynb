{
 "cells": [
  {
   "cell_type": "code",
   "execution_count": 1,
   "id": "46a5f88d-020f-4cc5-96e1-fb03844dd372",
   "metadata": {},
   "outputs": [],
   "source": [
    "import matplotlib.pyplot as plt\n",
    "import numpy as np\n",
    "import pandas as pd"
   ]
  },
  {
   "cell_type": "code",
   "execution_count": 2,
   "id": "04455d1c-e51c-4932-b79c-78518b9a8e6e",
   "metadata": {},
   "outputs": [],
   "source": [
    "from aeolus.const import init_const"
   ]
  },
  {
   "cell_type": "code",
   "execution_count": 3,
   "id": "92761c36-8e44-4e03-9897-3540b6844c8a",
   "metadata": {},
   "outputs": [],
   "source": [
    "import paths"
   ]
  },
  {
   "cell_type": "code",
   "execution_count": 4,
   "id": "87eba665-93d7-4c0c-8405-70083d4753af",
   "metadata": {},
   "outputs": [],
   "source": [
    "const_gj1214b = init_const(\"camembert_gj1214b\", directory=paths.const)"
   ]
  },
  {
   "cell_type": "code",
   "execution_count": 5,
   "id": "baa2262a-19f1-4c24-b51e-9959e9201201",
   "metadata": {},
   "outputs": [],
   "source": [
    "file_path = \"https://raw.githubusercontent.com/projectcuisines/camembert/main/InitialConditions/CAMEMBERT_GJ1214b_IC.dat\""
   ]
  },
  {
   "cell_type": "code",
   "execution_count": 6,
   "id": "f467e429-7927-452e-86e4-5eb874f8c953",
   "metadata": {},
   "outputs": [],
   "source": [
    "df = pd.read_csv(file_path, delimiter=\"\\s+\", comment=\"#\")"
   ]
  },
  {
   "cell_type": "code",
   "execution_count": 7,
   "id": "83be9590-8f39-4cc1-bcc1-0a0c0ddcd100",
   "metadata": {},
   "outputs": [],
   "source": [
    "df.loc[-1, 'Pressure_Pa'] = 30e5\n",
    "\n",
    "df = df.sort_values(\"Pressure_Pa\").reset_index(drop=True).interpolate()\n",
    "\n",
    "df = df[df[\"Pressure_Pa\"]<=30e5]\n",
    "df = df.reindex(index=df.index[::-1]).reset_index(drop=True)"
   ]
  },
  {
   "cell_type": "code",
   "execution_count": 8,
   "id": "4ee81317-17ab-42f4-8f49-14d6e6b867b1",
   "metadata": {},
   "outputs": [],
   "source": [
    "p0 = df[\"Pressure_Pa\"].values[0]"
   ]
  },
  {
   "cell_type": "code",
   "execution_count": 9,
   "id": "bbd170cf-623d-4476-8d88-668b33397c7e",
   "metadata": {},
   "outputs": [],
   "source": [
    "exner = (df[\"Pressure_Pa\"] / p0) ** (\n",
    "    const_gj1214b.dry_air_gas_constant / const_gj1214b.dry_air_spec_heat_press\n",
    ").data"
   ]
  },
  {
   "cell_type": "code",
   "execution_count": 10,
   "id": "05362bd2-4c15-4791-ab6a-db4f712e9f2c",
   "metadata": {},
   "outputs": [
    {
     "name": "stdout",
     "output_type": "stream",
     "text": [
      "0     1013.31\n",
      "1     1005.70\n",
      "2      993.51\n",
      "3      984.96\n",
      "4      978.33\n",
      "       ...   \n",
      "69     469.21\n",
      "70     461.55\n",
      "71     452.08\n",
      "72     437.88\n",
      "73     407.34\n",
      "Name: Temperature_K, Length: 74, dtype: float64\n"
     ]
    }
   ],
   "source": [
    "print(np.round(df[\"Temperature_K\"], 2))"
   ]
  },
  {
   "cell_type": "code",
   "execution_count": 11,
   "id": "f7b09b8c-9a77-4bf9-aeeb-2aff32280d30",
   "metadata": {},
   "outputs": [
    {
     "name": "stdout",
     "output_type": "stream",
     "text": [
      "0     1.00\n",
      "1     0.96\n",
      "2     0.90\n",
      "3     0.84\n",
      "4     0.78\n",
      "      ... \n",
      "69    0.01\n",
      "70    0.01\n",
      "71    0.01\n",
      "72    0.01\n",
      "73    0.01\n",
      "Name: Pressure_Pa, Length: 74, dtype: float64\n"
     ]
    }
   ],
   "source": [
    "print(np.round(exner, 2))"
   ]
  },
  {
   "cell_type": "code",
   "execution_count": 12,
   "id": "bec6b489-3b5e-463c-94c1-f218d46b6a19",
   "metadata": {},
   "outputs": [
    {
     "name": "stdout",
     "output_type": "stream",
     "text": [
      "0      1013.31\n",
      "1      1042.59\n",
      "2      1104.08\n",
      "3      1173.36\n",
      "4      1249.33\n",
      "        ...   \n",
      "69    54872.49\n",
      "70    57861.51\n",
      "71    60752.45\n",
      "72    63078.76\n",
      "73    62902.85\n",
      "Name: Theta_K, Length: 74, dtype: float64\n"
     ]
    }
   ],
   "source": [
    "df[\"Theta_K\"] = df[\"Temperature_K\"] / exner\n",
    "print(np.round(df[\"Theta_K\"], 2))"
   ]
  },
  {
   "cell_type": "code",
   "execution_count": 13,
   "id": "39f4def0-0d8f-4e4f-88e3-78872113d59a",
   "metadata": {},
   "outputs": [
    {
     "data": {
      "text/plain": [
       "(200.0, 1450.0)"
      ]
     },
     "execution_count": 13,
     "metadata": {},
     "output_type": "execute_result"
    },
    {
     "data": {
      "image/png": "[encoded data removed]",
      "text/plain": [
       "<Figure size 640x480 with 1 Axes>"
      ]
     },
     "metadata": {},
     "output_type": "display_data"
    }
   ],
   "source": [
    "plt.plot(df[\"Temperature_K\"], df[\"Pressure_Pa\"])\n",
    "# plt.plot(df[\"Temperature_K\"].values[73], df[\"Pressure_Pa\"].values[73], marker=\"o\")\n",
    "\n",
    "plt.yscale(\"log\")\n",
    "plt.ylim(1e7, 1e1)\n",
    "plt.xlim(200, 1450)"
   ]
  },
  {
   "cell_type": "code",
   "execution_count": 14,
   "id": "6549c6e3-fa61-496a-83ce-4e9008baad78",
   "metadata": {},
   "outputs": [],
   "source": [
    "temp = df[\"Temperature_K\"].values\n",
    "pres = df[\"Pressure_Pa\"].values\n",
    "\n",
    "\n",
    "z = np.zeros(df.shape[0])\n",
    "for i in range(1, z.shape[0]):\n",
    "    scale_height = const_gj1214b.dry_air_gas_constant.data * temp[i-1] / const_gj1214b.gravity.data\n",
    "    z[i] = z[i-1] - scale_height * np.log(pres[i] / pres[i-1])"
   ]
  },
  {
   "cell_type": "code",
   "execution_count": 15,
   "id": "204f49d8-17f2-43b7-9ac6-fec99a17b864",
   "metadata": {},
   "outputs": [
    {
     "data": {
      "text/plain": [
       "array([0.  , 0.04, 0.12, 0.2 , 0.27, 0.35, 0.43, 0.5 , 0.58, 0.65, 0.73,\n",
       "       0.8 , 0.88, 0.95, 1.03, 1.1 , 1.17, 1.24, 1.31, 1.37, 1.43, 1.49,\n",
       "       1.55, 1.6 , 1.66, 1.71, 1.76, 1.8 , 1.85, 1.89, 1.94, 1.98, 2.02,\n",
       "       2.07, 2.11, 2.15, 2.19, 2.23, 2.27, 2.32, 2.36, 2.4 , 2.44, 2.48,\n",
       "       2.52, 2.56, 2.6 , 2.64, 2.68, 2.73, 2.77, 2.81, 2.85, 2.89, 2.93,\n",
       "       2.97, 3.01, 3.05, 3.09, 3.13, 3.17, 3.21, 3.25, 3.29, 3.33, 3.37,\n",
       "       3.4 , 3.44, 3.48, 3.52, 3.55, 3.59, 3.62, 3.66])"
      ]
     },
     "execution_count": 15,
     "metadata": {},
     "output_type": "execute_result"
    }
   ],
   "source": [
    "np.round(z/1e6, 2)"
   ]
  },
  {
   "cell_type": "code",
   "execution_count": 16,
   "id": "e4397f3f-1141-4d76-952d-f0c2df796ca6",
   "metadata": {},
   "outputs": [
    {
     "data": {
      "text/plain": [
       "[<matplotlib.lines.Line2D at 0x7f70f0eb9390>]"
      ]
     },
     "execution_count": 16,
     "metadata": {},
     "output_type": "execute_result"
    },
    {
     "data": {
      "image/png": "[encoded data removed]",
      "text/plain": [
       "<Figure size 640x480 with 1 Axes>"
      ]
     },
     "metadata": {},
     "output_type": "display_data"
    }
   ],
   "source": [
    "plt.plot(temp, z)"
   ]
  },
  {
   "cell_type": "code",
   "execution_count": 17,
   "id": "67f05f86-02d2-4684-b8a1-2086653a7477",
   "metadata": {},
   "outputs": [
    {
     "data": {
      "text/plain": [
       "[<matplotlib.lines.Line2D at 0x7f70f0eb6390>]"
      ]
     },
     "execution_count": 17,
     "metadata": {},
     "output_type": "execute_result"
    },
    {
     "data": {
      "image/png": "[encoded data removed]",
      "text/plain": [
       "<Figure size 640x480 with 1 Axes>"
      ]
     },
     "metadata": {},
     "output_type": "display_data"
    }
   ],
   "source": [
    "plt.plot(pres, z)"
   ]
  },
  {
   "cell_type": "code",
   "execution_count": 18,
   "id": "8361d9f4-556d-4f52-abaa-4e768b95d29b",
   "metadata": {},
   "outputs": [
    {
     "data": {
      "text/plain": [
       "True"
      ]
     },
     "execution_count": 18,
     "metadata": {},
     "output_type": "execute_result"
    }
   ],
   "source": [
    "(np.diff(pres)<0).all()"
   ]
  },
  {
   "cell_type": "code",
   "execution_count": 19,
   "id": "23a650d1-b4ee-4ee0-8115-b6e04b5033cb",
   "metadata": {},
   "outputs": [
    {
     "data": {
      "text/plain": [
       "array([1013.308145, 1005.69532 ,  993.506124,  984.96458 ,  978.327079,\n",
       "        973.541531,  969.951696,  967.231115,  965.309386,  963.91111 ,\n",
       "        962.399306,  960.142692,  956.136182,  947.627077,  934.888884,\n",
       "        917.556513,  893.792086,  865.033263,  833.330863,  799.176259,\n",
       "        763.307383,  729.955899,  699.073152,  672.0491  ,  646.930754,\n",
       "        624.431572,  605.083952,  587.797899,  574.22644 ,  563.76001 ,\n",
       "        555.059006,  548.863093,  543.871505,  539.632245,  536.650465,\n",
       "        534.193693,  532.139752,  530.587615,  529.269431,  528.360519,\n",
       "        527.592763,  526.888854,  526.282403,  525.682005,  525.091533,\n",
       "        524.639816,  524.252143,  524.117654,  523.909175,  523.554311,\n",
       "        522.992391,  522.320556,  521.227239,  520.112476,  518.974122,\n",
       "        517.700092,  516.345486,  514.84724 ,  513.178027,  511.14598 ,\n",
       "        508.772404,  506.194606,  502.949769,  499.455789,  495.672039,\n",
       "        491.329345,  486.699124,  481.692909,  475.809826,  469.208956,\n",
       "        461.551266,  452.077031,  437.875149,  407.339013])"
      ]
     },
     "execution_count": 19,
     "metadata": {},
     "output_type": "execute_result"
    }
   ],
   "source": [
    "df[\"Theta_K\"].values * exner.values"
   ]
  }
 ],
 "metadata": {
  "kernelspec": {
   "display_name": "Python [conda env:lfric_ana]",
   "language": "python",
   "name": "conda-env-lfric_ana-py"
  },
  "language_info": {
   "codemirror_mode": {
    "name": "ipython",
    "version": 3
   },
   "file_extension": ".py",
   "mimetype": "text/x-python",
   "name": "python",
   "nbconvert_exporter": "python",
   "pygments_lexer": "ipython3",
   "version": "3.11.4"
  }
 },
 "nbformat": 4,
 "nbformat_minor": 5
}
