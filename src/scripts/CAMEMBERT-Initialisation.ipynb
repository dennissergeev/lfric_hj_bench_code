{
 "cells": [
  {
   "cell_type": "code",
   "execution_count": 1,
   "id": "36b93400-2c75-457d-aa7c-c65f07725454",
   "metadata": {},
   "outputs": [],
   "source": [
    "from pathlib import Path\n",
    "from typing import Tuple\n",
    "\n",
    "import aeolus\n",
    "import iris.pandas\n",
    "import iris.plot as iplt\n",
    "import matplotlib.pyplot as plt\n",
    "import numpy as np\n",
    "import pandas as pd\n",
    "from aeolus.const import init_const\n",
    "from aeolus.io import create_dummy_cube, load_vert_lev\n",
    "from iris.coords import AuxCoord\n",
    "from iris.util import new_axis, promote_aux_coord_to_dim_coord"
   ]
  },
  {
   "cell_type": "code",
   "execution_count": 2,
   "id": "92761c36-8e44-4e03-9897-3540b6844c8a",
   "metadata": {},
   "outputs": [],
   "source": [
    "import paths"
   ]
  },
  {
   "cell_type": "code",
   "execution_count": 3,
   "id": "1aa006d5-3c8b-4b87-86c5-96f630f8aff8",
   "metadata": {},
   "outputs": [],
   "source": [
    "from prep_camembert_ancil import (\n",
    "    add_mass_mixing_ratios,\n",
    "    broadcast_to_3d,\n",
    "    dataframe_to_cubelist,\n",
    "    interpolate_mmr_in_height,\n",
    "    load_init_cond,\n",
    "    load_socrates_gases,\n",
    "    make_vert_coord,\n",
    "    prep_profiles,\n",
    ")"
   ]
  },
  {
   "cell_type": "code",
   "execution_count": 4,
   "id": "a4ce1789-7124-46c4-84bc-73bfa362ef0d",
   "metadata": {},
   "outputs": [],
   "source": [
    "const = init_const(\"camembert_k2_18b\", directory=paths.const)"
   ]
  },
  {
   "cell_type": "code",
   "execution_count": 5,
   "id": "a7415b6b-be12-4004-ba9a-016290e62791",
   "metadata": {},
   "outputs": [
    {
     "data": {
      "text/plain": [
       "0.19074636633817807"
      ]
     },
     "execution_count": 5,
     "metadata": {},
     "output_type": "execute_result"
    }
   ],
   "source": [
    "omega = 2*np.pi / const.day.data\n",
    "omega*86400"
   ]
  },
  {
   "cell_type": "code",
   "execution_count": 5,
   "id": "baa2262a-19f1-4c24-b51e-9959e9201201",
   "metadata": {},
   "outputs": [],
   "source": [
    "file_path = \"https://raw.githubusercontent.com/projectcuisines/camembert/main/InitialConditions/CAMEMBERT_K2-18b_IC.dat\""
   ]
  },
  {
   "cell_type": "code",
   "execution_count": 6,
   "id": "d6960d15-618f-42bb-86f2-67086ecbafb7",
   "metadata": {},
   "outputs": [],
   "source": [
    "df = load_init_cond(file_path)"
   ]
  },
  {
   "cell_type": "code",
   "execution_count": 8,
   "id": "eeeb2b73-53b6-4c0a-a858-aa3496080b5f",
   "metadata": {},
   "outputs": [
    {
     "data": {
      "text/html": [
       "<div>\n",
       "<style scoped>\n",
       "    .dataframe tbody tr th:only-of-type {\n",
       "        vertical-align: middle;\n",
       "    }\n",
       "\n",
       "    .dataframe tbody tr th {\n",
       "        vertical-align: top;\n",
       "    }\n",
       "\n",
       "    .dataframe thead th {\n",
       "        text-align: right;\n",
       "    }\n",
       "</style>\n",
       "<table border=\"1\" class=\"dataframe\">\n",
       "  <thead>\n",
       "    <tr style=\"text-align: right;\">\n",
       "      <th></th>\n",
       "      <th>pressure_pa</th>\n",
       "      <th>temperature_k</th>\n",
       "      <th>vmr_co</th>\n",
       "      <th>vmr_co2</th>\n",
       "      <th>vmr_h2o</th>\n",
       "      <th>vmr_ch4</th>\n",
       "      <th>vmr_nh3</th>\n",
       "      <th>vmr_h2</th>\n",
       "      <th>vmr_he</th>\n",
       "      <th>exner</th>\n",
       "      <th>theta_k</th>\n",
       "      <th>height_m</th>\n",
       "    </tr>\n",
       "  </thead>\n",
       "  <tbody>\n",
       "    <tr>\n",
       "      <th>0</th>\n",
       "      <td>3.000000e+06</td>\n",
       "      <td>1072.775300</td>\n",
       "      <td>0.001158</td>\n",
       "      <td>0.000109</td>\n",
       "      <td>0.061439</td>\n",
       "      <td>0.040869</td>\n",
       "      <td>0.000835</td>\n",
       "      <td>0.752984</td>\n",
       "      <td>0.142125</td>\n",
       "      <td>1.000000</td>\n",
       "      <td>1072.775300</td>\n",
       "      <td>0.000000e+00</td>\n",
       "    </tr>\n",
       "    <tr>\n",
       "      <th>1</th>\n",
       "      <td>2.818383e+06</td>\n",
       "      <td>1068.993050</td>\n",
       "      <td>0.001313</td>\n",
       "      <td>0.000124</td>\n",
       "      <td>0.061269</td>\n",
       "      <td>0.040699</td>\n",
       "      <td>0.000835</td>\n",
       "      <td>0.751394</td>\n",
       "      <td>0.142436</td>\n",
       "      <td>0.983945</td>\n",
       "      <td>1086.435829</td>\n",
       "      <td>9.356534e+03</td>\n",
       "    </tr>\n",
       "    <tr>\n",
       "      <th>2</th>\n",
       "      <td>2.238721e+06</td>\n",
       "      <td>1062.367960</td>\n",
       "      <td>0.001741</td>\n",
       "      <td>0.000167</td>\n",
       "      <td>0.060798</td>\n",
       "      <td>0.040227</td>\n",
       "      <td>0.000835</td>\n",
       "      <td>0.748081</td>\n",
       "      <td>0.143080</td>\n",
       "      <td>0.926943</td>\n",
       "      <td>1146.098208</td>\n",
       "      <td>4.377256e+04</td>\n",
       "    </tr>\n",
       "    <tr>\n",
       "      <th>3</th>\n",
       "      <td>1.778279e+06</td>\n",
       "      <td>1055.872140</td>\n",
       "      <td>0.002298</td>\n",
       "      <td>0.000224</td>\n",
       "      <td>0.060184</td>\n",
       "      <td>0.039614</td>\n",
       "      <td>0.000835</td>\n",
       "      <td>0.744633</td>\n",
       "      <td>0.143751</td>\n",
       "      <td>0.873244</td>\n",
       "      <td>1209.138004</td>\n",
       "      <td>7.811719e+04</td>\n",
       "    </tr>\n",
       "    <tr>\n",
       "      <th>4</th>\n",
       "      <td>1.412538e+06</td>\n",
       "      <td>1048.718630</td>\n",
       "      <td>0.002962</td>\n",
       "      <td>0.000293</td>\n",
       "      <td>0.059451</td>\n",
       "      <td>0.038881</td>\n",
       "      <td>0.000835</td>\n",
       "      <td>0.740772</td>\n",
       "      <td>0.144514</td>\n",
       "      <td>0.822655</td>\n",
       "      <td>1274.797478</td>\n",
       "      <td>1.123928e+05</td>\n",
       "    </tr>\n",
       "    <tr>\n",
       "      <th>...</th>\n",
       "      <td>...</td>\n",
       "      <td>...</td>\n",
       "      <td>...</td>\n",
       "      <td>...</td>\n",
       "      <td>...</td>\n",
       "      <td>...</td>\n",
       "      <td>...</td>\n",
       "      <td>...</td>\n",
       "      <td>...</td>\n",
       "      <td>...</td>\n",
       "      <td>...</td>\n",
       "      <td>...</td>\n",
       "    </tr>\n",
       "    <tr>\n",
       "      <th>61</th>\n",
       "      <td>2.818383e+00</td>\n",
       "      <td>289.064279</td>\n",
       "      <td>0.004175</td>\n",
       "      <td>0.000884</td>\n",
       "      <td>0.056763</td>\n",
       "      <td>0.037077</td>\n",
       "      <td>0.000828</td>\n",
       "      <td>0.722407</td>\n",
       "      <td>0.148074</td>\n",
       "      <td>0.027410</td>\n",
       "      <td>10545.906439</td>\n",
       "      <td>1.001005e+06</td>\n",
       "    </tr>\n",
       "    <tr>\n",
       "      <th>62</th>\n",
       "      <td>2.238721e+00</td>\n",
       "      <td>288.411722</td>\n",
       "      <td>0.004175</td>\n",
       "      <td>0.000884</td>\n",
       "      <td>0.056763</td>\n",
       "      <td>0.037077</td>\n",
       "      <td>0.000828</td>\n",
       "      <td>0.722407</td>\n",
       "      <td>0.148074</td>\n",
       "      <td>0.025822</td>\n",
       "      <td>11169.148515</td>\n",
       "      <td>1.011456e+06</td>\n",
       "    </tr>\n",
       "    <tr>\n",
       "      <th>63</th>\n",
       "      <td>1.778279e+00</td>\n",
       "      <td>287.315708</td>\n",
       "      <td>0.004175</td>\n",
       "      <td>0.000884</td>\n",
       "      <td>0.056763</td>\n",
       "      <td>0.037077</td>\n",
       "      <td>0.000828</td>\n",
       "      <td>0.722407</td>\n",
       "      <td>0.148074</td>\n",
       "      <td>0.024326</td>\n",
       "      <td>11810.932838</td>\n",
       "      <td>1.021896e+06</td>\n",
       "    </tr>\n",
       "    <tr>\n",
       "      <th>64</th>\n",
       "      <td>1.412538e+00</td>\n",
       "      <td>284.708221</td>\n",
       "      <td>0.004175</td>\n",
       "      <td>0.000884</td>\n",
       "      <td>0.056763</td>\n",
       "      <td>0.037077</td>\n",
       "      <td>0.000828</td>\n",
       "      <td>0.722407</td>\n",
       "      <td>0.148074</td>\n",
       "      <td>0.022917</td>\n",
       "      <td>12423.458376</td>\n",
       "      <td>1.032308e+06</td>\n",
       "    </tr>\n",
       "    <tr>\n",
       "      <th>65</th>\n",
       "      <td>1.122018e+00</td>\n",
       "      <td>276.145242</td>\n",
       "      <td>0.004175</td>\n",
       "      <td>0.000884</td>\n",
       "      <td>0.056763</td>\n",
       "      <td>0.037077</td>\n",
       "      <td>0.000828</td>\n",
       "      <td>0.722407</td>\n",
       "      <td>0.148074</td>\n",
       "      <td>0.021589</td>\n",
       "      <td>12790.800871</td>\n",
       "      <td>1.042638e+06</td>\n",
       "    </tr>\n",
       "  </tbody>\n",
       "</table>\n",
       "<p>66 rows × 12 columns</p>\n",
       "</div>"
      ],
      "text/plain": [
       "     pressure_pa  temperature_k    vmr_co   vmr_co2   vmr_h2o   vmr_ch4  \\\n",
       "0   3.000000e+06    1072.775300  0.001158  0.000109  0.061439  0.040869   \n",
       "1   2.818383e+06    1068.993050  0.001313  0.000124  0.061269  0.040699   \n",
       "2   2.238721e+06    1062.367960  0.001741  0.000167  0.060798  0.040227   \n",
       "3   1.778279e+06    1055.872140  0.002298  0.000224  0.060184  0.039614   \n",
       "4   1.412538e+06    1048.718630  0.002962  0.000293  0.059451  0.038881   \n",
       "..           ...            ...       ...       ...       ...       ...   \n",
       "61  2.818383e+00     289.064279  0.004175  0.000884  0.056763  0.037077   \n",
       "62  2.238721e+00     288.411722  0.004175  0.000884  0.056763  0.037077   \n",
       "63  1.778279e+00     287.315708  0.004175  0.000884  0.056763  0.037077   \n",
       "64  1.412538e+00     284.708221  0.004175  0.000884  0.056763  0.037077   \n",
       "65  1.122018e+00     276.145242  0.004175  0.000884  0.056763  0.037077   \n",
       "\n",
       "     vmr_nh3    vmr_h2    vmr_he     exner       theta_k      height_m  \n",
       "0   0.000835  0.752984  0.142125  1.000000   1072.775300  0.000000e+00  \n",
       "1   0.000835  0.751394  0.142436  0.983945   1086.435829  9.356534e+03  \n",
       "2   0.000835  0.748081  0.143080  0.926943   1146.098208  4.377256e+04  \n",
       "3   0.000835  0.744633  0.143751  0.873244   1209.138004  7.811719e+04  \n",
       "4   0.000835  0.740772  0.144514  0.822655   1274.797478  1.123928e+05  \n",
       "..       ...       ...       ...       ...           ...           ...  \n",
       "61  0.000828  0.722407  0.148074  0.027410  10545.906439  1.001005e+06  \n",
       "62  0.000828  0.722407  0.148074  0.025822  11169.148515  1.011456e+06  \n",
       "63  0.000828  0.722407  0.148074  0.024326  11810.932838  1.021896e+06  \n",
       "64  0.000828  0.722407  0.148074  0.022917  12423.458376  1.032308e+06  \n",
       "65  0.000828  0.722407  0.148074  0.021589  12790.800871  1.042638e+06  \n",
       "\n",
       "[66 rows x 12 columns]"
      ]
     },
     "execution_count": 8,
     "metadata": {},
     "output_type": "execute_result"
    }
   ],
   "source": [
    "df = prep_profiles(df, const)\n",
    "df"
   ]
  },
  {
   "cell_type": "code",
   "execution_count": 8,
   "id": "39f4def0-0d8f-4e4f-88e3-78872113d59a",
   "metadata": {},
   "outputs": [],
   "source": [
    "# plt.plot(df[\"Temperature_K\"], df[\"Pressure_Pa\"])\n",
    "# # plt.plot(df[\"Temperature_K\"].values[73], df[\"Pressure_Pa\"].values[73], marker=\"o\")\n",
    "\n",
    "# plt.yscale(\"log\")\n",
    "# plt.ylim(1e7, 1e1)\n",
    "# plt.xlim(200, 1450)"
   ]
  },
  {
   "cell_type": "markdown",
   "id": "3e8ceb84-a42b-4032-a6d6-0a19c83e0c28",
   "metadata": {},
   "source": [
    "### Convert VMR to MMR"
   ]
  },
  {
   "cell_type": "code",
   "execution_count": 11,
   "id": "eb359a5a-0485-4880-8789-16e7ec0ff7fb",
   "metadata": {},
   "outputs": [],
   "source": [
    "s_gases = load_socrates_gases(paths.scripts / \"socrates_gases.yaml\")"
   ]
  },
  {
   "cell_type": "code",
   "execution_count": 12,
   "id": "f4863e66-57a2-484a-8432-ff5059128da2",
   "metadata": {},
   "outputs": [],
   "source": [
    "df = add_mass_mixing_ratios(df, s_gases, const)"
   ]
  },
  {
   "cell_type": "code",
   "execution_count": 13,
   "id": "da42298e-5bf6-4142-b69a-0c0f97ec10c4",
   "metadata": {},
   "outputs": [
    {
     "data": {
      "image/png": "[encoded data removed]",
      "text/plain": [
       "<Figure size 640x480 with 1 Axes>"
      ]
     },
     "metadata": {},
     "output_type": "display_data"
    }
   ],
   "source": [
    "ax = plt.axes()\n",
    "ax.plot(df[\"vmr_h2o\"].values, df[\"pressure_pa\"].values)\n",
    "ax.set_ylim(1e7, 10)\n",
    "ax.set_xlim(5e-11, 5e-3)\n",
    "ax.set_yscale(\"log\")\n",
    "ax.set_xscale(\"log\")"
   ]
  },
  {
   "cell_type": "code",
   "execution_count": 14,
   "id": "643feeea-bd9d-4198-8139-d6d463a4fbdf",
   "metadata": {},
   "outputs": [
    {
     "data": {
      "text/plain": [
       "0.9961541849208981"
      ]
     },
     "execution_count": 14,
     "metadata": {},
     "output_type": "execute_result"
    }
   ],
   "source": [
    "df[[i for i in df.columns if i.startswith(\"mmr_\")]].sum(axis=1).max()"
   ]
  },
  {
   "cell_type": "markdown",
   "id": "da41ab04-318e-4c54-915d-e32e61871b9c",
   "metadata": {},
   "source": [
    "### Interpolate in height"
   ]
  },
  {
   "cell_type": "code",
   "execution_count": 15,
   "id": "d964cd13-c44d-4792-a33f-7a08120cf662",
   "metadata": {},
   "outputs": [],
   "source": [
    "# Create the target vertical grid\n",
    "level_height, model_level_number = make_vert_coord(paths.vert / \"Lev_66_4.0e6_uniform\")"
   ]
  },
  {
   "cell_type": "code",
   "execution_count": 16,
   "id": "6549c6e3-fa61-496a-83ce-4e9008baad78",
   "metadata": {},
   "outputs": [],
   "source": [
    "dset = interpolate_mmr_in_height(\n",
    "    dataframe_to_cubelist(df),\n",
    "    target_theta_lev=level_height.points,\n",
    ")"
   ]
  },
  {
   "cell_type": "markdown",
   "id": "e1fd4cde-4044-4f86-b0fa-95071467a51c",
   "metadata": {},
   "source": [
    "### Broadcast to 3D"
   ]
  },
  {
   "cell_type": "code",
   "execution_count": 17,
   "id": "4e64e2b1-620b-4c64-8bfa-e5b268ced8c4",
   "metadata": {},
   "outputs": [],
   "source": [
    "dset_final = broadcast_to_3d(\n",
    "    dset, level_height=level_height, model_level_number=model_level_number\n",
    ")"
   ]
  },
  {
   "cell_type": "code",
   "execution_count": 20,
   "id": "0f384885-5da1-4630-9a78-9aa5361ad10e",
   "metadata": {},
   "outputs": [
    {
     "data": {
      "text/html": [
       "\n",
       "<style>\n",
       "  a.iris {\n",
       "      text-decoration: none !important;\n",
       "  }\n",
       "  table.iris {\n",
       "      white-space: pre;\n",
       "      border: 1px solid;\n",
       "      border-color: #9c9c9c;\n",
       "      font-family: monaco, monospace;\n",
       "  }\n",
       "  th.iris {\n",
       "      background: #303f3f;\n",
       "      color: #e0e0e0;\n",
       "      border-left: 1px solid;\n",
       "      border-color: #9c9c9c;\n",
       "      font-size: 1.05em;\n",
       "      min-width: 50px;\n",
       "      max-width: 125px;\n",
       "  }\n",
       "  tr.iris :first-child {\n",
       "      border-right: 1px solid #9c9c9c !important;\n",
       "  }\n",
       "  td.iris-title {\n",
       "      background: #d5dcdf;\n",
       "      border-top: 1px solid #9c9c9c;\n",
       "      font-weight: bold;\n",
       "  }\n",
       "  .iris-word-cell {\n",
       "      text-align: left !important;\n",
       "      white-space: pre;\n",
       "  }\n",
       "  .iris-subheading-cell {\n",
       "      padding-left: 2em !important;\n",
       "  }\n",
       "  .iris-inclusion-cell {\n",
       "      padding-right: 1em !important;\n",
       "  }\n",
       "  .iris-panel-body {\n",
       "      padding-top: 0px;\n",
       "  }\n",
       "  .iris-panel-title {\n",
       "      padding-left: 3em;\n",
       "  }\n",
       "  .iris-panel-title {\n",
       "      margin-top: 7px;\n",
       "  }\n",
       "</style>\n",
       "<table class=\"iris\" id=\"140280773160080\">\n",
       "    <tr class=\"iris\">\n",
       "<th class=\"iris iris-word-cell\">H2 Mmr (kg kg-1)</th>\n",
       "<th class=\"iris iris-word-cell\">model_level_number</th>\n",
       "<th class=\"iris iris-word-cell\">latitude</th>\n",
       "<th class=\"iris iris-word-cell\">longitude</th>\n",
       "</tr>\n",
       "    <tr class=\"iris\">\n",
       "<td class=\"iris-word-cell iris-subheading-cell\">Shape</td>\n",
       "<td class=\"iris iris-inclusion-cell\">67</td>\n",
       "<td class=\"iris iris-inclusion-cell\">144</td>\n",
       "<td class=\"iris iris-inclusion-cell\">192</td>\n",
       "</tr>\n",
       "    <tr class=\"iris\">\n",
       "    <td class=\"iris-title iris-word-cell\">Dimension coordinates</td>\n",
       "    <td class=\"iris-title\"></td>\n",
       "    <td class=\"iris-title\"></td>\n",
       "    <td class=\"iris-title\"></td>\n",
       "</tr>\n",
       "<tr class=\"iris\">\n",
       "    <td class=\"iris-word-cell iris-subheading-cell\">\tmodel_level_number</td>\n",
       "    <td class=\"iris-inclusion-cell\">x</td>\n",
       "    <td class=\"iris-inclusion-cell\">-</td>\n",
       "    <td class=\"iris-inclusion-cell\">-</td>\n",
       "</tr>\n",
       "<tr class=\"iris\">\n",
       "    <td class=\"iris-word-cell iris-subheading-cell\">\tlatitude</td>\n",
       "    <td class=\"iris-inclusion-cell\">-</td>\n",
       "    <td class=\"iris-inclusion-cell\">x</td>\n",
       "    <td class=\"iris-inclusion-cell\">-</td>\n",
       "</tr>\n",
       "<tr class=\"iris\">\n",
       "    <td class=\"iris-word-cell iris-subheading-cell\">\tlongitude</td>\n",
       "    <td class=\"iris-inclusion-cell\">-</td>\n",
       "    <td class=\"iris-inclusion-cell\">-</td>\n",
       "    <td class=\"iris-inclusion-cell\">x</td>\n",
       "</tr>\n",
       "<tr class=\"iris\">\n",
       "    <td class=\"iris-title iris-word-cell\">Auxiliary coordinates</td>\n",
       "    <td class=\"iris-title\"></td>\n",
       "    <td class=\"iris-title\"></td>\n",
       "    <td class=\"iris-title\"></td>\n",
       "</tr>\n",
       "<tr class=\"iris\">\n",
       "    <td class=\"iris-word-cell iris-subheading-cell\">\tlevel_height</td>\n",
       "    <td class=\"iris-inclusion-cell\">x</td>\n",
       "    <td class=\"iris-inclusion-cell\">-</td>\n",
       "    <td class=\"iris-inclusion-cell\">-</td>\n",
       "</tr>\n",
       "</table>\n",
       "        "
      ],
      "text/plain": [
       "<iris 'Cube' of h2_mmr / (kg kg-1) (model_level_number: 67; latitude: 144; longitude: 192)>"
      ]
     },
     "execution_count": 20,
     "metadata": {},
     "output_type": "execute_result"
    }
   ],
   "source": [
    "dset_final.extract_strict(\"h2_mmr\")"
   ]
  },
  {
   "cell_type": "code",
   "execution_count": 21,
   "id": "fa7ab9aa-d4ae-49a8-b662-afc440ca818b",
   "metadata": {},
   "outputs": [
    {
     "data": {
      "image/png": "[encoded data removed]",
      "text/plain": [
       "<Figure size 640x480 with 1 Axes>"
      ]
     },
     "metadata": {},
     "output_type": "display_data"
    }
   ],
   "source": [
    "for cube in dset_final:\n",
    "    iplt.plot(cube[:, 0, 0], cube.coord(\"level_height\"))\n",
    "plt.xscale(\"log\")"
   ]
  },
  {
   "cell_type": "markdown",
   "id": "ba4442c8-6d5d-4787-85ce-2f09af200526",
   "metadata": {},
   "source": [
    "## Approximate the profile with a polynomial"
   ]
  },
  {
   "cell_type": "code",
   "execution_count": 14,
   "id": "4079dd6e-99ac-465a-8757-76cea2d7f22b",
   "metadata": {},
   "outputs": [],
   "source": [
    "t = df.Temperature_K.values\n",
    "p = df.Pressure_Pa.values\n",
    "logp = np.log10(p)\n",
    "\n",
    "x = np.logspace(-1.5, 7.5, 100)\n",
    "logx = np.log10(x)"
   ]
  },
  {
   "cell_type": "code",
   "execution_count": 15,
   "id": "63b48e47-15d6-46a5-9499-26580cfca3b7",
   "metadata": {},
   "outputs": [
    {
     "data": {
      "text/plain": [
       "(0.0, 1500.0)"
      ]
     },
     "execution_count": 15,
     "metadata": {},
     "output_type": "execute_result"
    },
    {
     "data": {
      "image/png": "[encoded data removed]",
      "text/plain": [
       "<Figure size 640x480 with 1 Axes>"
      ]
     },
     "metadata": {},
     "output_type": "display_data"
    }
   ],
   "source": [
    "ax = plt.axes()\n",
    "ax.invert_yaxis()\n",
    "ax.plot(t, logp, linewidth=5, alpha=0.5, zorder=100)\n",
    "# for deg in range(4, 11):\n",
    "deg = 13\n",
    "\n",
    "coefs = np.polyfit(logp, t, deg)\n",
    "poly = np.poly1d(coefs)\n",
    "tt = poly(logx)\n",
    "\n",
    "ax.plot(tt, logx, marker=\".\")\n",
    "ax.set_xlim(0, 1500)"
   ]
  },
  {
   "cell_type": "markdown",
   "id": "6d9ab4cf-2dbe-4a45-8668-894677cec0d3",
   "metadata": {},
   "source": [
    "## Forcing terms"
   ]
  },
  {
   "cell_type": "code",
   "execution_count": 41,
   "id": "6a6823d5-25d9-4cfa-9af5-a480c3fdd98d",
   "metadata": {},
   "outputs": [],
   "source": [
    "pres = np.logspace(7, -2, 100)\n",
    "p_low = 100\n",
    "p_high = 1e6"
   ]
  },
  {
   "cell_type": "code",
   "execution_count": 42,
   "id": "093acaa4-2347-4a1f-bccb-8745de8a33fc",
   "metadata": {},
   "outputs": [],
   "source": [
    "factor = 1 - np.log10(pres / p_low) / np.log10(p_high / p_low)\n",
    "factor = np.minimum(1, np.maximum(0, factor))\n",
    "# factor[pres<=p_low] = 1\n",
    "# factor[pres>=p_high] = 0"
   ]
  },
  {
   "cell_type": "code",
   "execution_count": 43,
   "id": "58979fb8-1433-4a16-a36e-2e26432ff545",
   "metadata": {},
   "outputs": [
    {
     "data": {
      "text/plain": [
       "(7.5, -3.0)"
      ]
     },
     "execution_count": 43,
     "metadata": {},
     "output_type": "execute_result"
    },
    {
     "data": {
      "image/png": "[encoded data removed]",
      "text/plain": [
       "<Figure size 640x480 with 1 Axes>"
      ]
     },
     "metadata": {},
     "output_type": "display_data"
    }
   ],
   "source": [
    "plt.plot(factor, np.log10(pres))\n",
    "plt.ylim(7.5, -3)"
   ]
  },
  {
   "cell_type": "code",
   "execution_count": 44,
   "id": "251161eb-192c-46be-a14a-00e4df8be100",
   "metadata": {},
   "outputs": [
    {
     "data": {
      "text/plain": [
       "(7.5, -3.0)"
      ]
     },
     "execution_count": 44,
     "metadata": {},
     "output_type": "execute_result"
    },
    {
     "data": {
      "image/png": "[encoded data removed]",
      "text/plain": [
       "<Figure size 640x480 with 1 Axes>"
      ]
     },
     "metadata": {},
     "output_type": "display_data"
    }
   ],
   "source": [
    "tau = (10**2.5) * (pres**0.75)\n",
    "tau2 = np.minimum(1e7, np.maximum(1e4, tau))\n",
    "\n",
    "tau3 = np.copy(tau)\n",
    "tau3[pres <= 1e2] = 1e4\n",
    "tau3[pres >= 1e6] = 1e7\n",
    "\n",
    "plt.plot(np.log10(tau), np.log10(pres))\n",
    "plt.plot(np.log10(tau2), np.log10(pres))\n",
    "# plt.plot(np.log10(tau3), np.log10(pres))\n",
    "\n",
    "plt.ylim(7.5, -3)"
   ]
  }
 ],
 "metadata": {
  "kernelspec": {
   "display_name": "Python [conda env:ants2]",
   "language": "python",
   "name": "conda-env-ants2-py"
  },
  "language_info": {
   "codemirror_mode": {
    "name": "ipython",
    "version": 3
   },
   "file_extension": ".py",
   "mimetype": "text/x-python",
   "name": "python",
   "nbconvert_exporter": "python",
   "pygments_lexer": "ipython3",
   "version": "3.10.13"
  }
 },
 "nbformat": 4,
 "nbformat_minor": 5
}
